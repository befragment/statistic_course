{
 "cells": [
  {
   "cell_type": "code",
   "execution_count": null,
   "metadata": {},
   "outputs": [],
   "source": [
    "import pandas as pd \n",
    "\n",
    "df = pd.read_csv(\n",
    "    '1.csv', \n",
    "    encoding='Windows-1251', \n",
    "    sep=';', \n",
    "    parse_dates=['Дата создания', 'Дата оплаты']\n",
    ")\n",
    "\n",
    "df = df.rename(columns={\n",
    "    'Номер'            : 'id',    \n",
    "    'Дата создания'    : 'creation_date',\n",
    "    'Дата оплаты'      : 'payment_date',  \n",
    "    'Title'            : 'title',\n",
    "    'Статус'           : 'status',\n",
    "    'Заработано'       : 'accured',\n",
    "    'Город'            : 'city',\n",
    "    'Платежная система': 'acquiring' \n",
    "})\n",
    "\n",
    "df = df.query('accured >= 3000') \\\n",
    "       .groupby(['city', 'title'], as_index=False) \\\n",
    "       .agg({'accured': 'sum'}) \\\n",
    "       .sort_values(['accured'], ascending=False)\n",
    "\n",
    "print(df)"
   ]
  }
 ],
 "metadata": {
  "kernelspec": {
   "display_name": ".venv",
   "language": "python",
   "name": "python3"
  },
  "language_info": {
   "name": "python",
   "version": "3.10.4"
  }
 },
 "nbformat": 4,
 "nbformat_minor": 2
}
