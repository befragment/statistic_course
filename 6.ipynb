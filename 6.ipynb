{
 "cells": [
  {
   "cell_type": "code",
   "execution_count": 22,
   "metadata": {},
   "outputs": [],
   "source": [
    "import pandas as pd "
   ]
  },
  {
   "cell_type": "code",
   "execution_count": 23,
   "metadata": {},
   "outputs": [
    {
     "data": {
      "text/html": [
       "<div>\n",
       "<style scoped>\n",
       "    .dataframe tbody tr th:only-of-type {\n",
       "        vertical-align: middle;\n",
       "    }\n",
       "\n",
       "    .dataframe tbody tr th {\n",
       "        vertical-align: top;\n",
       "    }\n",
       "\n",
       "    .dataframe thead th {\n",
       "        text-align: right;\n",
       "    }\n",
       "</style>\n",
       "<table border=\"1\" class=\"dataframe\">\n",
       "  <thead>\n",
       "    <tr style=\"text-align: right;\">\n",
       "      <th></th>\n",
       "      <th>state</th>\n",
       "      <th>metro_res</th>\n",
       "      <th>white</th>\n",
       "      <th>hs_grad</th>\n",
       "      <th>poverty</th>\n",
       "      <th>female_house</th>\n",
       "    </tr>\n",
       "  </thead>\n",
       "  <tbody>\n",
       "    <tr>\n",
       "      <th>0</th>\n",
       "      <td>Alabama</td>\n",
       "      <td>55.4</td>\n",
       "      <td>71.3</td>\n",
       "      <td>79.9</td>\n",
       "      <td>14.6</td>\n",
       "      <td>14.2</td>\n",
       "    </tr>\n",
       "    <tr>\n",
       "      <th>1</th>\n",
       "      <td>Alaska</td>\n",
       "      <td>65.6</td>\n",
       "      <td>70.8</td>\n",
       "      <td>90.6</td>\n",
       "      <td>8.3</td>\n",
       "      <td>10.8</td>\n",
       "    </tr>\n",
       "    <tr>\n",
       "      <th>2</th>\n",
       "      <td>Arizona</td>\n",
       "      <td>88.2</td>\n",
       "      <td>87.7</td>\n",
       "      <td>83.8</td>\n",
       "      <td>13.3</td>\n",
       "      <td>11.1</td>\n",
       "    </tr>\n",
       "    <tr>\n",
       "      <th>3</th>\n",
       "      <td>Arkansas</td>\n",
       "      <td>52.5</td>\n",
       "      <td>81.0</td>\n",
       "      <td>80.9</td>\n",
       "      <td>18.0</td>\n",
       "      <td>12.1</td>\n",
       "    </tr>\n",
       "    <tr>\n",
       "      <th>4</th>\n",
       "      <td>California</td>\n",
       "      <td>94.4</td>\n",
       "      <td>77.5</td>\n",
       "      <td>81.1</td>\n",
       "      <td>12.8</td>\n",
       "      <td>12.6</td>\n",
       "    </tr>\n",
       "  </tbody>\n",
       "</table>\n",
       "</div>"
      ],
      "text/plain": [
       "        state  metro_res  white  hs_grad  poverty  female_house\n",
       "0     Alabama       55.4   71.3     79.9     14.6          14.2\n",
       "1      Alaska       65.6   70.8     90.6      8.3          10.8\n",
       "2     Arizona       88.2   87.7     83.8     13.3          11.1\n",
       "3    Arkansas       52.5   81.0     80.9     18.0          12.1\n",
       "4  California       94.4   77.5     81.1     12.8          12.6"
      ]
     },
     "execution_count": 23,
     "metadata": {},
     "output_type": "execute_result"
    }
   ],
   "source": [
    "df = pd.read_csv(\"states.csv\")\n",
    "df.head()"
   ]
  },
  {
   "cell_type": "code",
   "execution_count": 24,
   "metadata": {},
   "outputs": [
    {
     "data": {
      "text/html": [
       "<div>\n",
       "<style scoped>\n",
       "    .dataframe tbody tr th:only-of-type {\n",
       "        vertical-align: middle;\n",
       "    }\n",
       "\n",
       "    .dataframe tbody tr th {\n",
       "        vertical-align: top;\n",
       "    }\n",
       "\n",
       "    .dataframe thead th {\n",
       "        text-align: right;\n",
       "    }\n",
       "</style>\n",
       "<table border=\"1\" class=\"dataframe\">\n",
       "  <thead>\n",
       "    <tr style=\"text-align: right;\">\n",
       "      <th></th>\n",
       "      <th>metro_res</th>\n",
       "      <th>white</th>\n",
       "      <th>hs_grad</th>\n",
       "      <th>poverty</th>\n",
       "      <th>female_house</th>\n",
       "    </tr>\n",
       "  </thead>\n",
       "  <tbody>\n",
       "    <tr>\n",
       "      <th>0</th>\n",
       "      <td>55.4</td>\n",
       "      <td>71.3</td>\n",
       "      <td>79.9</td>\n",
       "      <td>14.6</td>\n",
       "      <td>14.2</td>\n",
       "    </tr>\n",
       "    <tr>\n",
       "      <th>1</th>\n",
       "      <td>65.6</td>\n",
       "      <td>70.8</td>\n",
       "      <td>90.6</td>\n",
       "      <td>8.3</td>\n",
       "      <td>10.8</td>\n",
       "    </tr>\n",
       "    <tr>\n",
       "      <th>2</th>\n",
       "      <td>88.2</td>\n",
       "      <td>87.7</td>\n",
       "      <td>83.8</td>\n",
       "      <td>13.3</td>\n",
       "      <td>11.1</td>\n",
       "    </tr>\n",
       "    <tr>\n",
       "      <th>3</th>\n",
       "      <td>52.5</td>\n",
       "      <td>81.0</td>\n",
       "      <td>80.9</td>\n",
       "      <td>18.0</td>\n",
       "      <td>12.1</td>\n",
       "    </tr>\n",
       "    <tr>\n",
       "      <th>4</th>\n",
       "      <td>94.4</td>\n",
       "      <td>77.5</td>\n",
       "      <td>81.1</td>\n",
       "      <td>12.8</td>\n",
       "      <td>12.6</td>\n",
       "    </tr>\n",
       "  </tbody>\n",
       "</table>\n",
       "</div>"
      ],
      "text/plain": [
       "   metro_res  white  hs_grad  poverty  female_house\n",
       "0       55.4   71.3     79.9     14.6          14.2\n",
       "1       65.6   70.8     90.6      8.3          10.8\n",
       "2       88.2   87.7     83.8     13.3          11.1\n",
       "3       52.5   81.0     80.9     18.0          12.1\n",
       "4       94.4   77.5     81.1     12.8          12.6"
      ]
     },
     "execution_count": 24,
     "metadata": {},
     "output_type": "execute_result"
    }
   ],
   "source": [
    "df = df.drop(columns=['state'])\n",
    "df.head()"
   ]
  },
  {
   "cell_type": "code",
   "execution_count": 25,
   "metadata": {},
   "outputs": [],
   "source": [
    "import seaborn as sns\n",
    "import matplotlib.pyplot as plt "
   ]
  },
  {
   "cell_type": "markdown",
   "metadata": {},
   "source": [
    "Проверить факторы на наличие коллинеарности. Для этого построить матрицу корреляций. Отобрать неколлинеарные факторы. Факторы считать неколлинеарными при условии, что коэффициент корреляции не превосходит 0,7."
   ]
  },
  {
   "cell_type": "code",
   "execution_count": 26,
   "metadata": {},
   "outputs": [
    {
     "data": {
      "text/plain": [
       "<Axes: >"
      ]
     },
     "execution_count": 26,
     "metadata": {},
     "output_type": "execute_result"
    },
    {
     "data": {
      "image/png": "[encoded data removed]",
      "text/plain": [
       "<Figure size 800x600 with 2 Axes>"
      ]
     },
     "metadata": {},
     "output_type": "display_data"
    }
   ],
   "source": [
    "corr_matrix = df.corr()\n",
    "\n",
    "plt.figure(figsize=(8, 6))\n",
    "sns.heatmap(corr_matrix, annot=True, cmap=\"coolwarm\", fmt=\".2f\",\n",
    "            xticklabels=corr_matrix.columns,\n",
    "            yticklabels=corr_matrix.columns)"
   ]
  },
  {
   "cell_type": "markdown",
   "metadata": {},
   "source": [
    "abs(corr_i) > 70%: \n",
    "- female_house & white"
   ]
  },
  {
   "cell_type": "code",
   "execution_count": 27,
   "metadata": {},
   "outputs": [],
   "source": [
    "import numpy as np\n",
    "def calc_target(A: np.ndarray, B: np.ndarray) -> np.ndarray:\n",
    "    A_inv = np.linalg.inv(A)\n",
    "    A_inv_A = A_inv @ A\n",
    "    A_inv_B = A_inv @ B\n",
    "    return np.linalg.solve(A_inv_A, A_inv_B)\n"
   ]
  },
  {
   "cell_type": "code",
   "execution_count": 28,
   "metadata": {},
   "outputs": [],
   "source": [
    "df = df.drop(columns=['white'])\n",
    "corr_mtrx = df.corr()"
   ]
  },
  {
   "cell_type": "markdown",
   "metadata": {},
   "source": [
    "Построить уравнение линейной множественной регрессии"
   ]
  },
  {
   "cell_type": "code",
   "execution_count": 29,
   "metadata": {},
   "outputs": [],
   "source": [
    "lst_x = list()\n",
    "req_cols = ['metro_res', 'hs_grad', 'female_house']\n",
    "for x in req_cols:\n",
    "    lst_x.append(df[x])\n",
    "\n",
    "n = len(df)\n",
    "y = df['poverty'].values\n",
    "\n",
    "first_row = [n] + [np.sum(x) for x in lst_x]\n",
    "\n",
    "dot_matrix = [[np.sum(xi * xj) for xj in lst_x] for xi in lst_x]\n",
    "\n",
    "rows_with_leading_sums = [\n",
    "    [np.sum(xi)] + row for xi, row in zip(lst_x, dot_matrix)\n",
    "]\n",
    "\n",
    "matrix_A = np.array([first_row] + rows_with_leading_sums)"
   ]
  },
  {
   "cell_type": "code",
   "execution_count": 30,
   "metadata": {},
   "outputs": [
    {
     "data": {
      "text/plain": [
       "array([  578.8 , 41334.28, 49352.39,  6925.2 ])"
      ]
     },
     "execution_count": 30,
     "metadata": {},
     "output_type": "execute_result"
    }
   ],
   "source": [
    "matrix_B = np.array([\n",
    "    np.sum(y),\n",
    "    *[np.sum(y * df[col].values) for col in req_cols]\n",
    "])\n",
    "matrix_B"
   ]
  },
  {
   "cell_type": "code",
   "execution_count": 31,
   "metadata": {},
   "outputs": [
    {
     "data": {
      "text/plain": [
       "(np.float64(54.05960674292253),\n",
       " np.float64(-0.0539626387881153),\n",
       " np.float64(-0.4942286842366607),\n",
       " np.float64(0.31784887498027836))"
      ]
     },
     "execution_count": 31,
     "metadata": {},
     "output_type": "execute_result"
    }
   ],
   "source": [
    "b0, b1, b2, b3 = calc_target(matrix_A, matrix_B)\n",
    "b0, b1, b2, b3"
   ]
  },
  {
   "cell_type": "code",
   "execution_count": 32,
   "metadata": {},
   "outputs": [],
   "source": [
    "df['pov_model'] = b0 + (b1 * df['metro_res']) + \\\n",
    "                  (b2 * df['hs_grad'])   + (b3 * df['female_house']) "
   ]
  },
  {
   "cell_type": "markdown",
   "metadata": {},
   "source": [
    "Определить значение коэффициента множественной корреляции R и коэффициента детерминации R2"
   ]
  },
  {
   "cell_type": "code",
   "execution_count": 33,
   "metadata": {},
   "outputs": [],
   "source": [
    "pov_mean = np.mean(df['poverty'])\n",
    "diff = (df['poverty'] - df['pov_model'])\n",
    "num = np.sum(diff * diff)\n",
    "denum = np.sum((df['poverty'] - pov_mean) * (df['poverty'] - pov_mean))"
   ]
  },
  {
   "cell_type": "code",
   "execution_count": 34,
   "metadata": {},
   "outputs": [
    {
     "name": "stdout",
     "output_type": "stream",
     "text": [
      "R_squared:  0.6250554112179456\n",
      "R:  0.7906044593966983\n"
     ]
    }
   ],
   "source": [
    "R_squared = 1 - (num / denum)\n",
    "R = np.sqrt(R_squared)\n",
    "print('R_squared: ', R_squared)\n",
    "print('R: ', R)"
   ]
  },
  {
   "cell_type": "markdown",
   "metadata": {},
   "source": [
    "Проверить значимость уравнения регрессии"
   ]
  },
  {
   "cell_type": "code",
   "execution_count": 16,
   "metadata": {},
   "outputs": [
    {
     "data": {
      "text/plain": [
       "np.float64(26.11728524355358)"
      ]
     },
     "execution_count": 16,
     "metadata": {},
     "output_type": "execute_result"
    }
   ],
   "source": [
    "F = (R_squared/(1 - R_squared))  * ((n - 3 - 1) / 3)\n",
    "F"
   ]
  },
  {
   "cell_type": "markdown",
   "metadata": {},
   "source": [
    "Проверить значимость коэффициентов уравнения регрессии"
   ]
  },
  {
   "cell_type": "code",
   "execution_count": 17,
   "metadata": {},
   "outputs": [
    {
     "data": {
      "text/plain": [
       "<Axes: >"
      ]
     },
     "execution_count": 17,
     "metadata": {},
     "output_type": "execute_result"
    },
    {
     "data": {
      "image/png": "[encoded data removed]",
      "text/plain": [
       "<Figure size 640x480 with 2 Axes>"
      ]
     },
     "metadata": {},
     "output_type": "display_data"
    }
   ],
   "source": [
    "sns.heatmap(corr_mtrx, cmap='coolwarm', annot=True)"
   ]
  },
  {
   "cell_type": "code",
   "execution_count": 18,
   "metadata": {},
   "outputs": [
    {
     "name": "stdout",
     "output_type": "stream",
     "text": [
      "t_metro_res: -0.20423476556056971\n",
      "t_hs_grad: -0.7468582531582509\n",
      "t_female_house: 0.5253969842079924\n"
     ]
    }
   ],
   "source": [
    "metro_res = corr_mtrx['metro_res']['poverty']\n",
    "hs_grad = corr_mtrx['hs_grad']['poverty']\n",
    "female_house = corr_mtrx['female_house']['poverty']\n",
    "print(\"t_metro_res:\", metro_res)\n",
    "print(\"t_hs_grad:\", hs_grad)\n",
    "print(\"t_female_house:\", female_house)"
   ]
  },
  {
   "cell_type": "code",
   "execution_count": 20,
   "metadata": {},
   "outputs": [
    {
     "name": "stdout",
     "output_type": "stream",
     "text": [
      "t_metro_res: -1.4604263154681445\n",
      "t_hs_grad: -7.861863607904187\n",
      "t_female_house: 4.322439538154278\n"
     ]
    }
   ],
   "source": [
    "t_metro_res = metro_res * np.sqrt((n - 2) / (1 - metro_res**2))\n",
    "t_hs_grad = hs_grad * np.sqrt((n - 2) / (1 - hs_grad**2))\n",
    "t_female_house = female_house * np.sqrt((n - 2) / (1 - female_house**2))\n",
    "\n",
    "print(\"t_metro_res:\", t_metro_res)\n",
    "print(\"t_hs_grad:\", t_hs_grad)\n",
    "print(\"t_female_house:\", t_female_house)"
   ]
  },
  {
   "cell_type": "code",
   "execution_count": 21,
   "metadata": {},
   "outputs": [
    {
     "name": "stdout",
     "output_type": "stream",
     "text": [
      "Критическое t-значение: 2.0117\n"
     ]
    }
   ],
   "source": [
    "from scipy.stats import t\n",
    "alpha = 0.05\n",
    "dff = n - 3 - 1\n",
    "t_critical = t.ppf(1 - alpha/2, dff)\n",
    "print(f\"Критическое t-значение: {t_critical:.4f}\")"
   ]
  },
  {
   "cell_type": "markdown",
   "metadata": {},
   "source": [
    "Построить уравнение линейной множественной регрессии с учетом только значимых факторов"
   ]
  },
  {
   "cell_type": "code",
   "execution_count": 35,
   "metadata": {},
   "outputs": [
    {
     "data": {
      "text/html": [
       "<div>\n",
       "<style scoped>\n",
       "    .dataframe tbody tr th:only-of-type {\n",
       "        vertical-align: middle;\n",
       "    }\n",
       "\n",
       "    .dataframe tbody tr th {\n",
       "        vertical-align: top;\n",
       "    }\n",
       "\n",
       "    .dataframe thead th {\n",
       "        text-align: right;\n",
       "    }\n",
       "</style>\n",
       "<table border=\"1\" class=\"dataframe\">\n",
       "  <thead>\n",
       "    <tr style=\"text-align: right;\">\n",
       "      <th></th>\n",
       "      <th>metro_res</th>\n",
       "      <th>hs_grad</th>\n",
       "      <th>poverty</th>\n",
       "      <th>female_house</th>\n",
       "      <th>pov_model</th>\n",
       "    </tr>\n",
       "  </thead>\n",
       "  <tbody>\n",
       "    <tr>\n",
       "      <th>0</th>\n",
       "      <td>55.4</td>\n",
       "      <td>79.9</td>\n",
       "      <td>14.6</td>\n",
       "      <td>14.2</td>\n",
       "      <td>16.094659</td>\n",
       "    </tr>\n",
       "    <tr>\n",
       "      <th>1</th>\n",
       "      <td>65.6</td>\n",
       "      <td>90.6</td>\n",
       "      <td>8.3</td>\n",
       "      <td>10.8</td>\n",
       "      <td>9.175307</td>\n",
       "    </tr>\n",
       "    <tr>\n",
       "      <th>2</th>\n",
       "      <td>88.2</td>\n",
       "      <td>83.8</td>\n",
       "      <td>13.3</td>\n",
       "      <td>11.1</td>\n",
       "      <td>11.411861</td>\n",
       "    </tr>\n",
       "    <tr>\n",
       "      <th>3</th>\n",
       "      <td>52.5</td>\n",
       "      <td>80.9</td>\n",
       "      <td>18.0</td>\n",
       "      <td>12.1</td>\n",
       "      <td>15.089439</td>\n",
       "    </tr>\n",
       "    <tr>\n",
       "      <th>4</th>\n",
       "      <td>94.4</td>\n",
       "      <td>81.1</td>\n",
       "      <td>12.8</td>\n",
       "      <td>12.6</td>\n",
       "      <td>12.888483</td>\n",
       "    </tr>\n",
       "  </tbody>\n",
       "</table>\n",
       "</div>"
      ],
      "text/plain": [
       "   metro_res  hs_grad  poverty  female_house  pov_model\n",
       "0       55.4     79.9     14.6          14.2  16.094659\n",
       "1       65.6     90.6      8.3          10.8   9.175307\n",
       "2       88.2     83.8     13.3          11.1  11.411861\n",
       "3       52.5     80.9     18.0          12.1  15.089439\n",
       "4       94.4     81.1     12.8          12.6  12.888483"
      ]
     },
     "execution_count": 35,
     "metadata": {},
     "output_type": "execute_result"
    }
   ],
   "source": [
    "df.head()"
   ]
  },
  {
   "cell_type": "code",
   "execution_count": 37,
   "metadata": {},
   "outputs": [
    {
     "data": {
      "text/plain": [
       "array([58.3202572 ,  0.14385005, -0.5655586 ])"
      ]
     },
     "execution_count": 37,
     "metadata": {},
     "output_type": "execute_result"
    }
   ],
   "source": [
    "X = df[['female_house', 'hs_grad']]\n",
    "X = X.to_numpy()\n",
    "\n",
    "y = df['poverty']\n",
    "y = y.to_numpy()\n",
    "\n",
    "# Добавление единичного столбца (для b0)\n",
    "X_features = np.hstack([np.ones((X.shape[0], 1)), X])\n",
    "\n",
    "# Расчёт матриц для МНК\n",
    "XtX = X_features.T @ X_features\n",
    "Xty = X_features.T @ y\n",
    "\n",
    "beta = np.linalg.solve(XtX, Xty)\n",
    "\n",
    "beta"
   ]
  },
  {
   "cell_type": "markdown",
   "metadata": {},
   "source": [
    "Оценка качества модели"
   ]
  },
  {
   "cell_type": "code",
   "execution_count": 38,
   "metadata": {},
   "outputs": [
    {
     "data": {
      "text/plain": [
       "array([15.17479582,  8.63422864, 12.52318213, 14.30715212, 14.26596542,\n",
       "        9.53616992, 10.57446536, 10.03964509, 12.40098361, 12.14364444,\n",
       "       12.27704612, 10.05206178,  9.68948417, 11.50812913, 11.05272977,\n",
       "        8.82676127,  9.54957076, 13.18943576, 15.57659181, 10.70945797,\n",
       "       10.8056096 , 10.77191879, 10.57544952,  7.79535494, 14.8855048 ,\n",
       "       10.05009346,  8.64369284,  8.27657183, 11.50517665,  7.54134565,\n",
       "       11.38161657, 14.0129403 , 12.81481887, 14.08191284,  8.71168123,\n",
       "       10.74413294, 11.49177581, 10.58294541, 11.35087824, 14.3656763 ,\n",
       "       14.75210312,  9.44985989, 14.3656763 , 16.48602897,  9.11150889,\n",
       "        9.37990318, 10.37602777,  9.35310149, 15.34999097,  9.59272578,\n",
       "        8.16247595])"
      ]
     },
     "execution_count": 38,
     "metadata": {},
     "output_type": "execute_result"
    }
   ],
   "source": [
    "y_mean = np.mean(y)\n",
    "y_hat = X_features @ beta\n",
    "y_hat"
   ]
  },
  {
   "cell_type": "code",
   "execution_count": 39,
   "metadata": {},
   "outputs": [],
   "source": [
    "ssr = np.sum((y - y_hat) ** 2)  # ошибка модели.\n",
    "sst = np.sum((y - y_mean) ** 2) # общая изменчивость данных.\n",
    "R_squared = 1 - ssr / sst   # R²"
   ]
  },
  {
   "cell_type": "code",
   "execution_count": 41,
   "metadata": {},
   "outputs": [
    {
     "data": {
      "text/plain": [
       "(np.float64(0.5652796734255746), np.float64(31.207908470990557))"
      ]
     },
     "execution_count": 41,
     "metadata": {},
     "output_type": "execute_result"
    }
   ],
   "source": [
    "n = len(y)                   \n",
    "m = X.shape[1]               \n",
    "F = (R_squared / (1 - R_squared)) * ((n - m - 1) / m)\n",
    "\n",
    "R_squared, F"
   ]
  },
  {
   "cell_type": "code",
   "execution_count": 42,
   "metadata": {},
   "outputs": [
    {
     "data": {
      "text/plain": [
       "np.float64(3.1907273359284987)"
      ]
     },
     "execution_count": 42,
     "metadata": {},
     "output_type": "execute_result"
    }
   ],
   "source": [
    "from scipy.stats import f\n",
    "alpha = 0.05\n",
    "d1 = m\n",
    "d2 = n - m - 1\n",
    "\n",
    "(F_crit := f.ppf(1 - alpha, d1, d2))\n"
   ]
  },
  {
   "cell_type": "code",
   "execution_count": 44,
   "metadata": {},
   "outputs": [
    {
     "data": {
      "text/html": [
       "<div>\n",
       "<style scoped>\n",
       "    .dataframe tbody tr th:only-of-type {\n",
       "        vertical-align: middle;\n",
       "    }\n",
       "\n",
       "    .dataframe tbody tr th {\n",
       "        vertical-align: top;\n",
       "    }\n",
       "\n",
       "    .dataframe thead th {\n",
       "        text-align: right;\n",
       "    }\n",
       "</style>\n",
       "<table border=\"1\" class=\"dataframe\">\n",
       "  <thead>\n",
       "    <tr style=\"text-align: right;\">\n",
       "      <th></th>\n",
       "      <th>metro_res</th>\n",
       "      <th>female_house</th>\n",
       "      <th>hs_grad</th>\n",
       "      <th>metro_res__female_house</th>\n",
       "      <th>metro_res__hs_grad</th>\n",
       "      <th>female_house__hs_grad</th>\n",
       "    </tr>\n",
       "  </thead>\n",
       "  <tbody>\n",
       "    <tr>\n",
       "      <th>0</th>\n",
       "      <td>55.4</td>\n",
       "      <td>14.2</td>\n",
       "      <td>79.9</td>\n",
       "      <td>786.68</td>\n",
       "      <td>4426.46</td>\n",
       "      <td>1134.58</td>\n",
       "    </tr>\n",
       "    <tr>\n",
       "      <th>1</th>\n",
       "      <td>65.6</td>\n",
       "      <td>10.8</td>\n",
       "      <td>90.6</td>\n",
       "      <td>708.48</td>\n",
       "      <td>5943.36</td>\n",
       "      <td>978.48</td>\n",
       "    </tr>\n",
       "    <tr>\n",
       "      <th>2</th>\n",
       "      <td>88.2</td>\n",
       "      <td>11.1</td>\n",
       "      <td>83.8</td>\n",
       "      <td>979.02</td>\n",
       "      <td>7391.16</td>\n",
       "      <td>930.18</td>\n",
       "    </tr>\n",
       "    <tr>\n",
       "      <th>3</th>\n",
       "      <td>52.5</td>\n",
       "      <td>12.1</td>\n",
       "      <td>80.9</td>\n",
       "      <td>635.25</td>\n",
       "      <td>4247.25</td>\n",
       "      <td>978.89</td>\n",
       "    </tr>\n",
       "    <tr>\n",
       "      <th>4</th>\n",
       "      <td>94.4</td>\n",
       "      <td>12.6</td>\n",
       "      <td>81.1</td>\n",
       "      <td>1189.44</td>\n",
       "      <td>7655.84</td>\n",
       "      <td>1021.86</td>\n",
       "    </tr>\n",
       "  </tbody>\n",
       "</table>\n",
       "</div>"
      ],
      "text/plain": [
       "   metro_res  female_house  hs_grad  metro_res__female_house  \\\n",
       "0       55.4          14.2     79.9                   786.68   \n",
       "1       65.6          10.8     90.6                   708.48   \n",
       "2       88.2          11.1     83.8                   979.02   \n",
       "3       52.5          12.1     80.9                   635.25   \n",
       "4       94.4          12.6     81.1                  1189.44   \n",
       "\n",
       "   metro_res__hs_grad  female_house__hs_grad  \n",
       "0             4426.46                1134.58  \n",
       "1             5943.36                 978.48  \n",
       "2             7391.16                 930.18  \n",
       "3             4247.25                 978.89  \n",
       "4             7655.84                1021.86  "
      ]
     },
     "execution_count": 44,
     "metadata": {},
     "output_type": "execute_result"
    }
   ],
   "source": [
    "from itertools import combinations\n",
    "\n",
    "cols = ['metro_res', 'female_house', 'hs_grad']\n",
    "new_cols = ['metro_res', 'female_house', 'hs_grad']\n",
    "\n",
    "data = df[cols]\n",
    "new_data = data.copy()\n",
    "\n",
    "for col1, col2 in combinations(cols, 2):\n",
    "    new_name = f'{col1}__{col2}'\n",
    "    new_data[new_name] = data[col1] * data[col2]\n",
    "    new_cols.append(new_name)\n",
    "\n",
    "new_data.head(5)"
   ]
  },
  {
   "cell_type": "code",
   "execution_count": 45,
   "metadata": {},
   "outputs": [
    {
     "data": {
      "text/plain": [
       "array([ 4.87213986e+01, -1.19506300e+00,  6.81111385e+00, -2.31250758e-01,\n",
       "        2.09799750e-02,  1.07516100e-02, -9.55011890e-02])"
      ]
     },
     "execution_count": 45,
     "metadata": {},
     "output_type": "execute_result"
    }
   ],
   "source": [
    "X = new_data.to_numpy() \n",
    "y = df['poverty'].to_numpy() \n",
    "\n",
    "X_features = np.hstack([np.ones((X.shape[0], 1)), X])\n",
    "XtX = X_features.T @ X_features\n",
    "Xty = X_features.T @ y\n",
    "\n",
    "(beta := np.linalg.solve(XtX, Xty))\n"
   ]
  },
  {
   "cell_type": "code",
   "execution_count": 46,
   "metadata": {},
   "outputs": [
    {
     "data": {
      "text/plain": [
       "np.float64(0.6817261975973622)"
      ]
     },
     "execution_count": 46,
     "metadata": {},
     "output_type": "execute_result"
    }
   ],
   "source": [
    "y_mean = np.mean(y)\n",
    "y_hat = X_features @ beta      \n",
    "\n",
    "ssr = np.sum((y - y_hat) ** 2)\n",
    "\n",
    "sst = np.sum((y - y_mean) ** 2)\n",
    "\n",
    "R_squared = 1 - ssr / sst\n",
    "\n",
    "n = len(y)\n",
    "m = X.shape[1]\n",
    "F = (R_squared / (1 - R_squared)) * ((n - m - 1) / m)\n",
    "\n",
    "alpha = 0.05\n",
    "df1 = m\n",
    "df2 = n - m - 1\n",
    "F_crit = f.ppf(1 - alpha, df1, df2)\n",
    "\n",
    "R_squared"
   ]
  },
  {
   "cell_type": "code",
   "execution_count": 48,
   "metadata": {},
   "outputs": [
    {
     "data": {
      "text/plain": [
       "(np.float64(15.707624728480916), np.float64(2.3132637931051208))"
      ]
     },
     "execution_count": 48,
     "metadata": {},
     "output_type": "execute_result"
    }
   ],
   "source": [
    "F, F_crit"
   ]
  },
  {
   "cell_type": "markdown",
   "metadata": {},
   "source": [
    "Корреляционный анализ"
   ]
  },
  {
   "cell_type": "code",
   "execution_count": 49,
   "metadata": {},
   "outputs": [
    {
     "name": "stdout",
     "output_type": "stream",
     "text": [
      "Признак:  metro_res\n",
      "r_xy: -0.20423476556056963\n",
      "t_кр:  2.0095752371292392\n",
      "t_r:  -1.4604263154681436\n",
      "ВЫВОД: Не значимо\n",
      "\n",
      "Признак:  female_house\n",
      "r_xy: 0.5253969842079923\n",
      "t_кр:  2.0095752371292392\n",
      "t_r:  4.322439538154276\n",
      "ВЫВОД: Значимо\n",
      "\n",
      "Признак:  hs_grad\n",
      "r_xy: -0.7468582531582507\n",
      "t_кр:  2.0095752371292392\n",
      "t_r:  -7.861863607904183\n",
      "ВЫВОД: Значимо\n",
      "\n",
      "Признак:  metro_res__female_house\n",
      "r_xy: 0.17936469191696267\n",
      "t_кр:  2.0095752371292392\n",
      "t_r:  1.276250237053057\n",
      "ВЫВОД: Не значимо\n",
      "\n",
      "Признак:  metro_res__hs_grad\n",
      "r_xy: -0.3387565333548004\n",
      "t_кр:  2.0095752371292392\n",
      "t_r:  -2.5203115008747434\n",
      "ВЫВОД: Значимо\n",
      "\n",
      "Признак:  female_house__hs_grad\n",
      "r_xy: 0.40354451624218685\n",
      "t_кр:  2.0095752371292392\n",
      "t_r:  3.087360733689979\n",
      "ВЫВОД: Значимо\n",
      "\n"
     ]
    }
   ],
   "source": [
    "for col in range(0, X.shape[1]):\n",
    "    x = X[:, col]\n",
    "    x_mean, y_mean = x.mean(), y.mean()\n",
    "    r_xy = np.corrcoef(x, y)[0][1]\n",
    "    t_r = r_xy * np.sqrt((n - 2) / (1 - r_xy**2))\n",
    "    alpha = 0.05\n",
    "    t_crit = t.ppf(1 - alpha/2, df=n-2)\n",
    "\n",
    "    print(\"Признак: \", new_cols[col])\n",
    "    print(\"r_xy:\", r_xy)\n",
    "    print(\"t_кр: \", t_crit)\n",
    "    print(\"t_r: \", t_r)\n",
    "\n",
    "    if abs(t_r) > t_crit:\n",
    "      print(\"ВЫВОД: Значимо\", end='\\n\\n')\n",
    "    else:\n",
    "      print(\"ВЫВОД: Не значимо\", end='\\n\\n')\n"
   ]
  },
  {
   "cell_type": "code",
   "execution_count": null,
   "metadata": {},
   "outputs": [],
   "source": [
    "important_features = [\n",
    "    'female_house',\n",
    "    'hs_grad',\n",
    "    'metro_res',\n",
    "    'metro_res__hs_grad',\n",
    "    'female_house__hs_grad'\n",
    "    'metro_res_x_female_house'\n",
    "]"
   ]
  },
  {
   "cell_type": "code",
   "execution_count": 50,
   "metadata": {},
   "outputs": [],
   "source": [
    "import statsmodels.api as sm\n",
    "\n",
    "X = df[['female_house', 'hs_grad']].to_numpy()\n",
    "y = df['poverty'].to_numpy()\n",
    "\n",
    "X_interactions = np.column_stack([\n",
    "    X[:, 0] * X[:, 1],\n",
    "    df['metro_res'].values * X[:, 1]\n",
    "])\n",
    "\n",
    "X_final = np.hstack([X, X_interactions])"
   ]
  },
  {
   "cell_type": "code",
   "execution_count": 51,
   "metadata": {},
   "outputs": [],
   "source": [
    "X_final = sm.add_constant(X_final)\n",
    "model = sm.OLS(y, X_final).fit()"
   ]
  },
  {
   "cell_type": "code",
   "execution_count": 52,
   "metadata": {},
   "outputs": [
    {
     "name": "stdout",
     "output_type": "stream",
     "text": [
      "R² обновлённой модели: 0.6327\n"
     ]
    }
   ],
   "source": [
    "beta = np.linalg.inv(X_final.T @ X_final) @ X_final.T @ y  \n",
    "y_hat_new = X_final @ beta                               \n",
    "\n",
    "ssr_new = np.sum((y - y_hat_new) ** 2)\n",
    "sst_new = np.sum((y - np.mean(y)) ** 2)\n",
    "R_squared_new = 1 - (ssr_new / sst_new)\n",
    "\n",
    "print(f\"R² обновлённой модели: {R_squared_new:.4f}\")"
   ]
  },
  {
   "cell_type": "code",
   "execution_count": 53,
   "metadata": {},
   "outputs": [
    {
     "name": "stdout",
     "output_type": "stream",
     "text": [
      "Старый R²: 0.6817\n",
      "Новый R²: 0.6327\n",
      "Улучшение: -0.0490\n"
     ]
    }
   ],
   "source": [
    "print(f\"Старый R²: {R_squared:.4f}\")\n",
    "print(f\"Новый R²: {R_squared_new:.4f}\")\n",
    "print(f\"Улучшение: {R_squared_new - R_squared:.4f}\")"
   ]
  },
  {
   "cell_type": "markdown",
   "metadata": {},
   "source": [
    "Вывод: модель, к сожалению ухудшилась, по сравнению с первой\n"
   ]
  }
 ],
 "metadata": {
  "kernelspec": {
   "display_name": ".venv",
   "language": "python",
   "name": "python3"
  },
  "language_info": {
   "codemirror_mode": {
    "name": "ipython",
    "version": 3
   },
   "file_extension": ".py",
   "mimetype": "text/x-python",
   "name": "python",
   "nbconvert_exporter": "python",
   "pygments_lexer": "ipython3",
   "version": "3.10.4"
  }
 },
 "nbformat": 4,
 "nbformat_minor": 2
}
