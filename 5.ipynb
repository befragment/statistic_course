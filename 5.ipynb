{
 "cells": [
  {
   "cell_type": "code",
   "execution_count": 105,
   "metadata": {},
   "outputs": [],
   "source": [
    "import pandas as pd \n",
    "import numpy as np"
   ]
  },
  {
   "cell_type": "code",
   "execution_count": 106,
   "metadata": {},
   "outputs": [
    {
     "data": {
      "text/plain": [
       "(                                 id    group\n",
       " 0  f429f155a561bf8168b57e938860b1f2  control\n",
       " 1  7cde3ff0f5c395d3fc9cedc489166da6  control\n",
       " 2  8e40691b88dc87a00254e9ace8842dfa  control\n",
       " 3  6673b2652bde316e430b796f5d1622e7  control\n",
       " 4  eaf28db9f97ff59b1837e1e98893c8bf  control,\n",
       "                                  id  amount        date\n",
       " 0  000522d40d5519bf9bf766d728734b79  5409.0  2024-03-27\n",
       " 1  00087ecf9465ade2b8eded4c7ca96a7e  3765.0  2024-03-21\n",
       " 2  000eaac1e60a5dce4c80b1702f982d6a  1814.0  2024-03-23\n",
       " 3  001418891eda4653d83ce5f87014f174  6675.0  2024-03-25\n",
       " 4  0014b226f82a93b0c30f11bdbabb8452  5654.0  2024-03-23)"
      ]
     },
     "execution_count": 106,
     "metadata": {},
     "output_type": "execute_result"
    }
   ],
   "source": [
    "trans_df = pd.read_csv(\"transactions.csv\")\n",
    "users_df = pd.read_csv(\"users.csv\")\n",
    "users_df.head(), trans_df.head()"
   ]
  },
  {
   "cell_type": "code",
   "execution_count": 107,
   "metadata": {},
   "outputs": [
    {
     "data": {
      "text/plain": [
       "((36442, 2), (9850, 3))"
      ]
     },
     "execution_count": 107,
     "metadata": {},
     "output_type": "execute_result"
    }
   ],
   "source": [
    "users_df.shape, trans_df.shape"
   ]
  },
  {
   "cell_type": "code",
   "execution_count": 108,
   "metadata": {},
   "outputs": [],
   "source": [
    "from scipy.stats import norm"
   ]
  },
  {
   "cell_type": "code",
   "execution_count": null,
   "metadata": {},
   "outputs": [],
   "source": [
    "def calc_mde(control: np.array, test: np.array, alpha: float, beta: float, n: int): \n",
    "    var_c = np.var(control)\n",
    "    var_t = np.var(test)\n",
    "\n",
    "    z_halfalpha = norm.ppf(1 - alpha / 2)\n",
    "    z_beta = norm.ppf(1 - beta)\n",
    "\n",
    "    return np.sqrt((var_c + var_t) * (z_halfalpha + z_beta) ** 2 / n)"
   ]
  },
  {
   "cell_type": "code",
   "execution_count": 110,
   "metadata": {},
   "outputs": [
    {
     "data": {
      "text/plain": [
       "(9850, 4)"
      ]
     },
     "execution_count": 110,
     "metadata": {},
     "output_type": "execute_result"
    }
   ],
   "source": [
    "df = users_df.merge(trans_df, how='left', on=\"id\")\n",
    "df = df.dropna()\n",
    "df.shape"
   ]
  },
  {
   "cell_type": "code",
   "execution_count": 111,
   "metadata": {},
   "outputs": [
    {
     "data": {
      "text/plain": [
       "np.float64(33.08978400904823)"
      ]
     },
     "execution_count": 111,
     "metadata": {},
     "output_type": "execute_result"
    }
   ],
   "source": [
    "control = df.query(\"group == 'control'\").values[:, 2]\n",
    "treatment = df.query(\"group == 'treatment'\").values[:, 2]\n",
    "\n",
    "alpha = 0.05\n",
    "beta = 0.8\n",
    "n = users_df.shape[0] / 2\n",
    "calc_mde(control, treatment, alpha, beta, n)"
   ]
  }
 ],
 "metadata": {
  "kernelspec": {
   "display_name": ".venv",
   "language": "python",
   "name": "python3"
  },
  "language_info": {
   "codemirror_mode": {
    "name": "ipython",
    "version": 3
   },
   "file_extension": ".py",
   "mimetype": "text/x-python",
   "name": "python",
   "nbconvert_exporter": "python",
   "pygments_lexer": "ipython3",
   "version": "3.10.4"
  }
 },
 "nbformat": 4,
 "nbformat_minor": 2
}
